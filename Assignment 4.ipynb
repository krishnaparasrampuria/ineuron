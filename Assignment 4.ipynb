{
 "cells": [
  {
   "cell_type": "markdown",
   "metadata": {},
   "source": [
    "1.1 Write a Python Program(with class concepts) to find the area of the triangle using the below formula. <br>\n",
    "area = (s*(s-a)*(s-b)*(s-c)) ** 0.5 <br>\n",
    "Function to take the length of the sides of triangle from user should be defined in the parent class and function to calculate the area should be defined in subclass."
   ]
  },
  {
   "cell_type": "code",
   "execution_count": 1,
   "metadata": {},
   "outputs": [
    {
     "name": "stdout",
     "output_type": "stream",
     "text": [
      "Area: 6.93\n"
     ]
    }
   ],
   "source": [
    "class sides():\n",
    "    def __init__(self, a, b, c):\n",
    "        self.a = a\n",
    "        self.b = b\n",
    "        self.c = c\n",
    "class triangle(sides):\n",
    "    def area(self):\n",
    "        s = (self.a + self.b + self.c) / 2\n",
    "        x = (s * (s - self.a) * (s - self.b) * (s - self.c)) ** 0.5\n",
    "        return x\n",
    "t = triangle(4, 4, 4)\n",
    "print(\"Area: %0.2f\" %t.area())"
   ]
  },
  {
   "cell_type": "markdown",
   "metadata": {},
   "source": [
    "1.2 Write a function filter_long_words() that takes a list of words and an integer n and returns the list of words that are longer than n."
   ]
  },
  {
   "cell_type": "code",
   "execution_count": 2,
   "metadata": {},
   "outputs": [
    {
     "name": "stdout",
     "output_type": "stream",
     "text": [
      "['This', 'test', 'list', 'strings']\n"
     ]
    }
   ],
   "source": [
    "x = []\n",
    "def filter_long_words(words_list, n):\n",
    "    for word in words_list:\n",
    "        if len(word) > n:\n",
    "            x.append(word)\n",
    "    return x\n",
    "        \n",
    "words_list = ['This', 'is', 'a', 'test', 'list', 'of', 'strings']\n",
    "print(filter_long_words(words_list, 3))"
   ]
  },
  {
   "cell_type": "markdown",
   "metadata": {},
   "source": [
    "2.1 Write a Python program using function concept that maps list of words into a list of integers representing the lengths of the corresponding words. <br>\n",
    "Hint: If a list [ab,cde,erty] is passed on to the python function output should come as [2,3,4]. <br>\n",
    "Here 2,3 and 4 are the lengths of the words in the list."
   ]
  },
  {
   "cell_type": "code",
   "execution_count": 3,
   "metadata": {},
   "outputs": [
    {
     "name": "stdout",
     "output_type": "stream",
     "text": [
      "[4, 2, 1, 4, 4, 2, 7]\n"
     ]
    }
   ],
   "source": [
    "n = []\n",
    "def len_string(word_list):\n",
    "    for word in word_list:\n",
    "        n.append(len(word))\n",
    "    return n\n",
    "word_list = ['This', 'is', 'a', 'test', 'list', 'of', 'strings']\n",
    "print(len_string(word_list))"
   ]
  },
  {
   "cell_type": "markdown",
   "metadata": {},
   "source": [
    "2.2 Write a Python function which takes a character (i.e. a string of length 1) and returns True if it is a vowel, False otherwise."
   ]
  },
  {
   "cell_type": "code",
   "execution_count": 4,
   "metadata": {},
   "outputs": [
    {
     "data": {
      "text/plain": [
       "True"
      ]
     },
     "execution_count": 4,
     "metadata": {},
     "output_type": "execute_result"
    }
   ],
   "source": [
    "def vowel(character):\n",
    "    if len(character) > 1:\n",
    "        print(\"Please input only single character\")\n",
    "    else:\n",
    "        if character.lower() in ('a','e','i','o','u'):\n",
    "            return True\n",
    "        else:\n",
    "            return False\n",
    "character = 'A'\n",
    "vowel(character)"
   ]
  }
 ],
 "metadata": {
  "kernelspec": {
   "display_name": "Python 3",
   "language": "python",
   "name": "python3"
  },
  "language_info": {
   "codemirror_mode": {
    "name": "ipython",
    "version": 3
   },
   "file_extension": ".py",
   "mimetype": "text/x-python",
   "name": "python",
   "nbconvert_exporter": "python",
   "pygments_lexer": "ipython3",
   "version": "3.7.3"
  }
 },
 "nbformat": 4,
 "nbformat_minor": 4
}
