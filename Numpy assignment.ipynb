{
 "cells": [
  {
   "cell_type": "markdown",
   "metadata": {},
   "source": [
    "1. Write a function so that the columns of the output matrix are powers of the input vector. <br> <br>\n",
    "The order of the powers is determined by the increasing boolean argument. Specifically, when increasing is False, the i-th output column is the input vector raised element-wise to the power of N - i - 1. <br> <br>\n",
    "HINT: Such a matrix with a geometric progression in each row is named for Alexandre-Theophile Vandermonde."
   ]
  },
  {
   "cell_type": "code",
   "execution_count": 1,
   "metadata": {},
   "outputs": [
    {
     "data": {
      "text/plain": [
       "array([[  1,   1,   1,   1,   1],\n",
       "       [ 16,   8,   4,   2,   1],\n",
       "       [ 81,  27,   9,   3,   1],\n",
       "       [256,  64,  16,   4,   1]])"
      ]
     },
     "execution_count": 1,
     "metadata": {},
     "output_type": "execute_result"
    }
   ],
   "source": [
    "import numpy as np\n",
    "def ATV(input_vector, i, increasing = True):\n",
    "    if i<1:\n",
    "        return (\"i value should be at least 1\")\n",
    "    else:\n",
    "        rows = len(input_vector)\n",
    "        columns = i\n",
    "        array = np.empty((rows,columns))\n",
    "        if increasing == True:\n",
    "            for r in range(rows):\n",
    "                for c in range(columns):\n",
    "                    array[r][c] = (input_vector[r] ** (c))\n",
    "        else:\n",
    "            for r in range(rows):\n",
    "                for c in range(columns):\n",
    "                    array[r][i-c-1] = (input_vector[r] ** (c))\n",
    "        return array.astype(int)\n",
    "ATV([1,2,3,4],5,False)"
   ]
  },
  {
   "cell_type": "markdown",
   "metadata": {},
   "source": [
    "2. Problem Statement: <br>\n",
    "Given a sequence of n values x1, x2, ..., xn and a window size k>0, the k-th moving average of the given sequence is defined as follows: <br>\n",
    "The moving average sequence has n-k+1 elements as shown below. <br>\n",
    "The moving averages with k=4 of a ten-value sequence (n=10) is shown below <br>\n",
    "    i 1  2  3  4  5  6  7  8  9  10 <br>\n",
    "===== == == == == == == == == == == <br>\n",
    "Input 10 20 30 40 50 60 70 80 90 100 <br>\n",
    "y1 25 = (10+20+30+40)/4 <br>\n",
    "y2 35 = (20+30+40+50)/4 <br>\n",
    "y3 45 = (30+40+50+60)/4 <br>\n",
    "y4 55 = (40+50+60+70)/4 <br>\n",
    "y5 65 = (50+60+70+80)/4 <br>\n",
    "y6 75 = (60+70+80+90)/4 <br>\n",
    "y7 85 = (70+80+90+100)/4 <br>\n",
    "Thus, the moving average sequence has n-k+1=10-4+1=7 values. <br> <br>\n",
    "Question: Write a function to find moving average in an array over a window: <br>\n",
    "Test it over [3, 5, 7, 2, 8, 10, 11, 65, 72, 81, 99, 100, 150] and window of 3."
   ]
  },
  {
   "cell_type": "code",
   "execution_count": 2,
   "metadata": {},
   "outputs": [
    {
     "name": "stdout",
     "output_type": "stream",
     "text": [
      "y1: 5.00\n",
      "y2: 4.67\n",
      "y3: 5.67\n",
      "y4: 6.67\n",
      "y5: 9.67\n",
      "y6: 28.67\n",
      "y7: 49.33\n",
      "y8: 72.67\n",
      "y9: 84.00\n",
      "y10: 93.33\n",
      "y11: 116.33\n"
     ]
    }
   ],
   "source": [
    "def moving_average(sequence,window):\n",
    "    if window < 1:\n",
    "        return (\"Window size should be greater than 0\")\n",
    "    else:\n",
    "        n = len(sequence)\n",
    "        for i in range(n - window + 1):\n",
    "            y = 0\n",
    "            x = i + 1\n",
    "            for m in range(window):\n",
    "                y += (sequence[i + m])\n",
    "            z = y / window\n",
    "            print(\"y{:d}: {:0.2f}\".format(x,z))\n",
    "moving_average([3, 5, 7, 2, 8, 10, 11, 65, 72, 81, 99, 100, 150],3)"
   ]
  }
 ],
 "metadata": {
  "kernelspec": {
   "display_name": "Python 3",
   "language": "python",
   "name": "python3"
  },
  "language_info": {
   "codemirror_mode": {
    "name": "ipython",
    "version": 3
   },
   "file_extension": ".py",
   "mimetype": "text/x-python",
   "name": "python",
   "nbconvert_exporter": "python",
   "pygments_lexer": "ipython3",
   "version": "3.7.3"
  }
 },
 "nbformat": 4,
 "nbformat_minor": 4
}
